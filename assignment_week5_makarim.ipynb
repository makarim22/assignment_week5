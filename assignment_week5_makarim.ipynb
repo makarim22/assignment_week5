{
 "cells": [
  {
   "cell_type": "markdown",
   "metadata": {},
   "source": [
    "# Connecting to and Operations on a Database\n",
    "\n",
    "## lesson_2_1_2"
   ]
  },
  {
   "cell_type": "markdown",
   "metadata": {},
   "source": [
    "### Installing PostgreSQL on the Playground Server\n",
    "\n",
    "At the command line, the first one will require your password:\n",
    "- `sudo apt update` \n",
    "- `sudo apt install postgresql postgresql-contrib`\n",
    "\n",
    "### Gain Access to PSQL Command Line\n",
    "- psql is the interactive terminal for working with PostgreSQL\n",
    "\n",
    "At the command line:\n",
    "- `sudo -u postgres psql`\n",
    "\n",
    "You are not logged in as the \"postgres\" superuser.\n",
    "\n",
    "### Create User, Database and Grant Access\n",
    "\n",
    "#### Create Database\n",
    "- `CREATE DATABASE cloud_user;`\n",
    "\n",
    "#### Create User\n",
    "- `CREATE USER cloud_user WITH ENCRYPTED PASSWORD 'cloud_user';`\n",
    "\n",
    "#### Grant Access to Database by User\n",
    "- `GRANT ALL PRIVILEGES ON DATABASE cloud_user TO cloud_user;`\n",
    "\n",
    "You now have a database you can access named cloud_user as the user cloud_user.\n",
    "\n",
    "#### Leave PSQL\n",
    "- `\\q`\n",
    "\n",
    "#### Configure PostgreSQL For Remote Access\n",
    "- PostgreSQL installs with all access to remote users turned off; this is a good thing, think security\n",
    "\n",
    "To allow remote access:\n",
    "\n",
    "- `sudo nano /etc/postgresql/10/main/pg_hba.conf`\n",
    "    \n",
    "    Add a last entry to the file:\n",
    "    - `host    all             all             0.0.0.0/0               md5`\n",
    "- `CTRL-x` to exit and type `Y` and `Enter\\Return` to save\n",
    "\n",
    "- `sudo nano /etc/postgresql/10/main/postgresql.conf`\n",
    "\n",
    "    Find the section labeled `CONNECTIONS AND AUTHENTICATION` and above this line \n",
    "    \n",
    "    - `#listen_addresses = 'localhost'` add \n",
    "    - `listen_addresses = '*'`\n",
    "- `CTRL-x` to exit and type `Y` and `Enter\\Return` to save \n",
    "\n",
    "- `sudo systemctl restart postgresql.service`\n",
    "- To grant access in psql again: `psql -U postgres` postgres sesuaikan dengan nama user yang kalian buat."
   ]
  },
  {
   "cell_type": "markdown",
   "metadata": {},
   "source": [
    "### Install Postgresql Driver to Your Virtual Environment\n",
    "- `conda activate python_data_course`\n",
    "- `conda install psycopg2`\n",
    "\n",
    "### **_Start and connect to the Jupyter Notebook server as usual._**\n",
    "\n",
    "-----"
   ]
  },
  {
   "cell_type": "markdown",
   "metadata": {},
   "source": [
    "### Server Operations Using Python's Psycopg2"
   ]
  },
  {
   "cell_type": "code",
   "execution_count": 4,
   "metadata": {
    "ExecuteTime": {
     "end_time": "2024-04-06T14:49:29.700086Z",
     "start_time": "2024-04-06T14:49:28.128559Z"
    }
   },
   "outputs": [],
   "source": [
    "import pandas as pd\n",
    "import psycopg2"
   ]
  },
  {
   "cell_type": "markdown",
   "metadata": {},
   "source": [
    "##### A Word About Database Connections\n",
    "\n",
    "In the cell below you will see I used a `try, except, finally` block.  There are a couple of main reasons and I thought it important to call them out.\n",
    "\n",
    "- Exceptions:\n",
    "    Exceptions can occur when trying to connect to a database like PostgreSQL.  Maybe the server is down.  Or perhaps it has already exceeded the maximum number of collections.  It is important to catch those errors and report out to the user (even if it is only you).\n",
    "    \n",
    "- Connections:\n",
    "    There are a limited number of connections a database server can accept.  While this is a ratehr large number, it is possible to reach that number and be refused a connection.  Be a good neighbor and always only open a connection for an operation and then close it.  Don't open a connection and leave it open while you review the data you have gotten."
   ]
  },
  {
   "cell_type": "markdown",
   "metadata": {},
   "source": [
    "### Create Table"
   ]
  },
  {
   "cell_type": "code",
   "execution_count": 2,
   "metadata": {
    "ExecuteTime": {
     "end_time": "2024-04-06T14:44:39.797549Z",
     "start_time": "2024-04-06T14:44:35.116513Z"
    }
   },
   "outputs": [
    {
     "name": "stdout",
     "output_type": "stream",
     "text": [
      "PostgreSQL connection is closed\n",
      "Records:\n",
      " None\n"
     ]
    }
   ],
   "source": [
    "\n",
    "create_table_query = '''CREATE TABLE source(\n",
    "    Source varchar (20),\n",
    "    Target_type varchar (20),\n",
    "    weight float,\n",
    "    typeTrans text,\n",
    "    fraud float4\n",
    "    );\n",
    "    CREATE TABLE customer (\n",
    "    step INTEGER,\n",
    "    customer varchar(20),\n",
    "    age varchar(4),\n",
    "    gender varchar(3),\n",
    "    zipcode varchar(20),\n",
    "    merchant varchar(20),\n",
    "    zipcodemerchant varchar(20),\n",
    "    category varchar(50),\n",
    "    amount numeric(10,2),\n",
    "    fraud int\n",
    "    );'''\n",
    "hostStr = '172.18.49.7'\n",
    "dbPort = 5432\n",
    "dbStr = 'dbjaka'\n",
    "uNameStr = 'jaka'\n",
    "dbPassStr = 'P4ssword'\n",
    "\n",
    "try:\n",
    "    # Make connection to db\n",
    "    cxn = psycopg2.connect(host=hostStr, port=dbPort, dbname=dbStr, user=uNameStr, password=dbPassStr)\n",
    "\n",
    "    # Create a cursor to db\n",
    "    cur = cxn.cursor()\n",
    "    \n",
    "    # Send sql query to request\n",
    "    cur.execute(create_table_query)\n",
    "    records = cxn.commit()\n",
    "\n",
    "except (Exception, psycopg2.Error) as error :\n",
    "    print (\"Error while connecting to PostgreSQL\", error)\n",
    "    \n",
    "finally:\n",
    "    #closing database connection.\n",
    "    if(cxn):\n",
    "        cur.close()\n",
    "        cxn.close()\n",
    "        print(\"PostgreSQL connection is closed\")\n",
    "\n",
    "print(f'Records:\\n {records}')\n"
   ]
  },
  {
   "cell_type": "markdown",
   "metadata": {},
   "source": [
    "### Add the Data to Table"
   ]
  },
  {
   "cell_type": "code",
   "execution_count": 3,
   "metadata": {},
   "outputs": [
    {
     "name": "stdout",
     "output_type": "stream",
     "text": [
      "PostgreSQL connection is closed\n",
      "table populated\n"
     ]
    }
   ],
   "source": [
    "try: \n",
    "    # Make connection to db\n",
    "    cxn = psycopg2.connect(host=hostStr, port=dbPort, dbname=dbStr, user=uNameStr, password=dbPassStr)\n",
    "    \n",
    "    # Create a cursor to db\n",
    "    cur = cxn.cursor()\n",
    "    \n",
    "    with open(r\"C:\\Users\\USER\\Downloads\\bsNET140513_032310.csv\", 'r') as f:\n",
    "        # skip first row, header row\n",
    "        next(f)\n",
    "        cur.copy_from(f, 'source', sep=\",\")\n",
    "        cxn.commit()\n",
    "\n",
    "except (Exception, psycopg2.Error) as error :\n",
    "    print (\"Error while connecting to PostgreSQL\", error)\n",
    "    \n",
    "finally:\n",
    "    #closing database connection.\n",
    "    if(cxn):\n",
    "        cur.close()\n",
    "        cxn.close()\n",
    "        print(\"PostgreSQL connection is closed\")\n",
    "        print(\"table populated\")\n"
   ]
  },
  {
   "cell_type": "code",
   "execution_count": 4,
   "metadata": {},
   "outputs": [
    {
     "name": "stdout",
     "output_type": "stream",
     "text": [
      "PostgreSQL connection is closed\n",
      "table populated\n"
     ]
    }
   ],
   "source": [
    "try: \n",
    "    # Make connection to db\n",
    "    cxn = psycopg2.connect(host=hostStr, port=dbPort, dbname=dbStr, user=uNameStr, password=dbPassStr)\n",
    "    \n",
    "    # Create a cursor to db\n",
    "    cur = cxn.cursor()\n",
    "    \n",
    "    with open(r\"C:\\Users\\USER\\Downloads\\bs140513_032310.csv\", 'r') as f:\n",
    "        # skip first row, header row\n",
    "        next(f)\n",
    "        cur.copy_from(f, 'customer', sep=\",\")\n",
    "        cxn.commit()\n",
    "\n",
    "except (Exception, psycopg2.Error) as error :\n",
    "    print (\"Error while connecting to PostgreSQL\", error)\n",
    "    \n",
    "finally:\n",
    "    #closing database connection.\n",
    "    if(cxn):\n",
    "        cur.close()\n",
    "        cxn.close()\n",
    "        print(\"PostgreSQL connection is closed\")\n",
    "        print(\"table populated\")\n"
   ]
  },
  {
   "cell_type": "markdown",
   "metadata": {},
   "source": [
    "### Selecting Data From a Server\n",
    "\n",
    "Use `.fetchall()` with LIMIT or TOP (#) \n",
    "- LIMIT works for most databases, but does not work with SQL Server\n",
    "- TOP (#) is used in place of LIMIT on SQL Server"
   ]
  },
  {
   "cell_type": "code",
   "execution_count": 5,
   "metadata": {
    "ExecuteTime": {
     "end_time": "2024-04-06T14:48:38.309156Z",
     "start_time": "2024-04-06T14:48:38.297152Z"
    }
   },
   "outputs": [],
   "source": [
    "def db_server_fetch(sql_query):\n",
    "    try:\n",
    "        # Make connection to db\n",
    "        cxn = psycopg2.connect(host=hostStr, port=dbPort, dbname=dbStr, user=uNameStr, password=dbPassStr)\n",
    "\n",
    "        # Create a cursor to db\n",
    "        cur = cxn.cursor()\n",
    "\n",
    "        # Send sql query to request\n",
    "        cur.execute(sql_query)\n",
    "        records = cur.fetchall()\n",
    "\n",
    "    except (Exception, psycopg2.Error) as error :\n",
    "        print (\"Error while connecting to PostgreSQL\", error)\n",
    "\n",
    "    finally:\n",
    "        #closing database connection.\n",
    "        if(cxn):\n",
    "            cur.close()\n",
    "            cxn.close()\n",
    "            print(\"PostgreSQL connection is closed\")\n",
    "        return records"
   ]
  },
  {
   "cell_type": "markdown",
   "metadata": {},
   "source": [
    "Test table is populated by `Select`ing the first five rows."
   ]
  },
  {
   "cell_type": "code",
   "execution_count": 6,
   "metadata": {
    "ExecuteTime": {
     "end_time": "2024-04-06T14:48:44.921241Z",
     "start_time": "2024-04-06T14:48:40.359743Z"
    }
   },
   "outputs": [
    {
     "name": "stdout",
     "output_type": "stream",
     "text": [
      "Error while connecting to PostgreSQL name 'hostStr' is not defined\n"
     ]
    },
    {
     "ename": "UnboundLocalError",
     "evalue": "cannot access local variable 'cxn' where it is not associated with a value",
     "output_type": "error",
     "traceback": [
      "\u001b[1;31m---------------------------------------------------------------------------\u001b[0m",
      "\u001b[1;31mUnboundLocalError\u001b[0m                         Traceback (most recent call last)",
      "Cell \u001b[1;32mIn[6], line 3\u001b[0m\n\u001b[0;32m      1\u001b[0m select_query \u001b[38;5;241m=\u001b[39m \u001b[38;5;124m'''\u001b[39m\u001b[38;5;124mSELECT * FROM source LIMIT 5;\u001b[39m\u001b[38;5;124m'''\u001b[39m\n\u001b[1;32m----> 3\u001b[0m records \u001b[38;5;241m=\u001b[39m \u001b[43mdb_server_fetch\u001b[49m\u001b[43m(\u001b[49m\u001b[43mselect_query\u001b[49m\u001b[43m)\u001b[49m\n\u001b[0;32m      4\u001b[0m \u001b[38;5;28mprint\u001b[39m(records)\n",
      "Cell \u001b[1;32mIn[5], line 18\u001b[0m, in \u001b[0;36mdb_server_fetch\u001b[1;34m(sql_query)\u001b[0m\n\u001b[0;32m     14\u001b[0m     \u001b[38;5;28mprint\u001b[39m (\u001b[38;5;124m\"\u001b[39m\u001b[38;5;124mError while connecting to PostgreSQL\u001b[39m\u001b[38;5;124m\"\u001b[39m, error)\n\u001b[0;32m     16\u001b[0m \u001b[38;5;28;01mfinally\u001b[39;00m:\n\u001b[0;32m     17\u001b[0m     \u001b[38;5;66;03m#closing database connection.\u001b[39;00m\n\u001b[1;32m---> 18\u001b[0m     \u001b[38;5;28;01mif\u001b[39;00m(\u001b[43mcxn\u001b[49m):\n\u001b[0;32m     19\u001b[0m         cur\u001b[38;5;241m.\u001b[39mclose()\n\u001b[0;32m     20\u001b[0m         cxn\u001b[38;5;241m.\u001b[39mclose()\n",
      "\u001b[1;31mUnboundLocalError\u001b[0m: cannot access local variable 'cxn' where it is not associated with a value"
     ]
    }
   ],
   "source": [
    "select_query = '''SELECT * FROM source LIMIT 5;'''\n",
    "\n",
    "records = db_server_fetch(select_query)\n",
    "print(records)\n"
   ]
  },
  {
   "cell_type": "code",
   "execution_count": 118,
   "metadata": {
    "ExecuteTime": {
     "end_time": "2024-04-06T14:48:47.596003Z",
     "start_time": "2024-04-06T14:48:47.582056Z"
    }
   },
   "outputs": [
    {
     "data": {
      "text/plain": [
       "[(\"'C1093826151'\", \"'M348934600'\", 4.55, \"'es_transportation'\", 0.0),\n",
       " (\"'C352968107'\", \"'M348934600'\", 39.68, \"'es_transportation'\", 0.0),\n",
       " (\"'C2054744914'\", \"'M1823072687'\", 26.89, \"'es_transportation'\", 0.0),\n",
       " (\"'C1760612790'\", \"'M348934600'\", 17.25, \"'es_transportation'\", 0.0),\n",
       " (\"'C757503768'\", \"'M348934600'\", 35.72, \"'es_transportation'\", 0.0)]"
      ]
     },
     "execution_count": 118,
     "metadata": {},
     "output_type": "execute_result"
    }
   ],
   "source": [
    "records"
   ]
  },
  {
   "cell_type": "code",
   "execution_count": 119,
   "metadata": {
    "ExecuteTime": {
     "end_time": "2024-04-06T14:48:53.850851Z",
     "start_time": "2024-04-06T14:48:53.828848Z"
    }
   },
   "outputs": [],
   "source": [
    "def db_server_change(sql_query):\n",
    "    try:\n",
    "        # Make connection to db\n",
    "        cxn = psycopg2.connect(host=hostStr, port=dbPort, dbname=dbStr, user=uNameStr, password=dbPassStr)\n",
    "\n",
    "        # Create a cursor to db\n",
    "        cur = cxn.cursor()\n",
    "\n",
    "        # Send sql query to request\n",
    "        cur.execute(sql_query)\n",
    "        records = conn.commit()\n",
    "\n",
    "    except (Exception, psycopg2.Error) as error :\n",
    "        print (\"Error while connecting to PostgreSQL\", error)\n",
    "\n",
    "    finally:\n",
    "        #closing database connection.\n",
    "        if(cxn):\n",
    "            cur.close()\n",
    "            cxn.close()\n",
    "            print(\"PostgreSQL connection is closed\")\n",
    "        return records"
   ]
  },
  {
   "cell_type": "markdown",
   "metadata": {},
   "source": [
    "Add a new record with the following data:\n",
    "On Saturday, new wait staff Alfred had one person at Breakfast for 10.76 and received a 0.50 tip."
   ]
  },
  {
   "cell_type": "code",
   "execution_count": 131,
   "metadata": {
    "ExecuteTime": {
     "end_time": "2024-04-06T14:49:00.703089Z",
     "start_time": "2024-04-06T14:48:56.110879Z"
    }
   },
   "outputs": [
    {
     "name": "stdout",
     "output_type": "stream",
     "text": [
      "Error while connecting to PostgreSQL: syntax error at or near \"RENAME\"\n",
      "LINE 12: RENAME COLUMN age_int TO age;\n",
      "         ^\n",
      "\n",
      "PostgreSQL connection is closed\n",
      "Affected rows: None\n"
     ]
    }
   ],
   "source": [
    "def db_server_change(sql_query):\n",
    "    records = None\n",
    "    try:\n",
    "        # Make connection to the database\n",
    "        conn = psycopg2.connect(host=hostStr, port=dbPort, dbname=dbStr, user=uNameStr, password=dbPassStr)\n",
    "\n",
    "        # Create a cursor to the database\n",
    "        cur = conn.cursor()\n",
    "\n",
    "        # Send SQL query to the database\n",
    "        cur.execute(sql_query)\n",
    "        \n",
    "        # Commit the transaction\n",
    "        conn.commit()\n",
    "        \n",
    "        # Get the number of affected rows\n",
    "        records = cur.rowcount\n",
    "\n",
    "    except psycopg2.Error as error:\n",
    "        print(\"Error while connecting to PostgreSQL:\", error)\n",
    "\n",
    "    finally:\n",
    "        # Closing cursor and database connection\n",
    "        if conn:\n",
    "            cur.close()\n",
    "            conn.close()\n",
    "            print(\"PostgreSQL connection is closed\")\n",
    "\n",
    "    return records\n",
    "\n",
    "# Define the SQL query to add data to the database\n",
    "add_data = '''-- Add a new integer column for age\n",
    "ALTER TABLE customer\n",
    "ADD COLUMN age_int INT;\n",
    "\n",
    "-- Update the new column with converted values\n",
    "UPDATE customer\n",
    "SET age_int = age::INT;\n",
    "\n",
    "-- Once you've verified that all values can be converted, drop the old column and rename the new one\n",
    "ALTER TABLE customer\n",
    "DROP COLUMN age,\n",
    "RENAME COLUMN age_int TO age;\n",
    ";\n",
    "'''\n",
    "\n",
    "add_data2='''\n",
    "ALTER TABLE tips\n",
    "ADD COLUMN total_bill_per_person DECIMAL(10, 2),\n",
    "ADD COLUMN tip_percentage DECIMAL(5, 2),\n",
    "ADD COLUMN party_size_meal_total_interaction DECIMAL(10, 2);\n",
    "\n",
    "UPDATE tips\n",
    "SET total_bill_per_person = meal_total / party_size,\n",
    "    tip_percentage = (tip / meal_total) * 100,\n",
    "    party_size_meal_total_interaction = party_size * meal_total;\n",
    ";\n",
    "'''\n",
    "\n",
    "# Call the function to execute the SQL query\n",
    "affected_rows = db_server_change(add_data)\n",
    "print(\"Affected rows:\", affected_rows)"
   ]
  },
  {
   "cell_type": "code",
   "execution_count": 7,
   "metadata": {
    "ExecuteTime": {
     "end_time": "2024-04-06T14:49:06.364707Z",
     "start_time": "2024-04-06T14:49:01.811494Z"
    }
   },
   "outputs": [
    {
     "name": "stdout",
     "output_type": "stream",
     "text": [
      "Error while connecting to PostgreSQL name 'hostStr' is not defined\n"
     ]
    },
    {
     "ename": "UnboundLocalError",
     "evalue": "cannot access local variable 'cxn' where it is not associated with a value",
     "output_type": "error",
     "traceback": [
      "\u001b[1;31m---------------------------------------------------------------------------\u001b[0m",
      "\u001b[1;31mUnboundLocalError\u001b[0m                         Traceback (most recent call last)",
      "Cell \u001b[1;32mIn[7], line 3\u001b[0m\n\u001b[0;32m      1\u001b[0m select_query \u001b[38;5;241m=\u001b[39m \u001b[38;5;124m'''\u001b[39m\u001b[38;5;124mSELECT * FROM tips LIMIT 5;\u001b[39m\u001b[38;5;124m'''\u001b[39m\n\u001b[1;32m----> 3\u001b[0m records \u001b[38;5;241m=\u001b[39m \u001b[43mdb_server_fetch\u001b[49m\u001b[43m(\u001b[49m\u001b[43mselect_query\u001b[49m\u001b[43m)\u001b[49m\n\u001b[0;32m      4\u001b[0m \u001b[38;5;28mprint\u001b[39m(records)\n",
      "Cell \u001b[1;32mIn[5], line 18\u001b[0m, in \u001b[0;36mdb_server_fetch\u001b[1;34m(sql_query)\u001b[0m\n\u001b[0;32m     14\u001b[0m     \u001b[38;5;28mprint\u001b[39m (\u001b[38;5;124m\"\u001b[39m\u001b[38;5;124mError while connecting to PostgreSQL\u001b[39m\u001b[38;5;124m\"\u001b[39m, error)\n\u001b[0;32m     16\u001b[0m \u001b[38;5;28;01mfinally\u001b[39;00m:\n\u001b[0;32m     17\u001b[0m     \u001b[38;5;66;03m#closing database connection.\u001b[39;00m\n\u001b[1;32m---> 18\u001b[0m     \u001b[38;5;28;01mif\u001b[39;00m(\u001b[43mcxn\u001b[49m):\n\u001b[0;32m     19\u001b[0m         cur\u001b[38;5;241m.\u001b[39mclose()\n\u001b[0;32m     20\u001b[0m         cxn\u001b[38;5;241m.\u001b[39mclose()\n",
      "\u001b[1;31mUnboundLocalError\u001b[0m: cannot access local variable 'cxn' where it is not associated with a value"
     ]
    }
   ],
   "source": [
    "select_query = '''SELECT * FROM tips LIMIT 5;'''\n",
    "\n",
    "records = db_server_fetch(select_query)\n",
    "print(records)"
   ]
  },
  {
   "cell_type": "code",
   "execution_count": 66,
   "metadata": {
    "ExecuteTime": {
     "end_time": "2024-04-06T14:49:33.795019Z",
     "start_time": "2024-04-06T14:49:33.763444Z"
    }
   },
   "outputs": [
    {
     "ename": "ValueError",
     "evalue": "7 columns passed, passed data had 10 columns",
     "output_type": "error",
     "traceback": [
      "\u001b[1;31m---------------------------------------------------------------------------\u001b[0m",
      "\u001b[1;31mAssertionError\u001b[0m                            Traceback (most recent call last)",
      "File \u001b[1;32mc:\\Users\\USER\\AppData\\Local\\Programs\\Python\\Python312\\Lib\\site-packages\\pandas\\core\\internals\\construction.py:939\u001b[0m, in \u001b[0;36m_finalize_columns_and_data\u001b[1;34m(content, columns, dtype)\u001b[0m\n\u001b[0;32m    938\u001b[0m \u001b[38;5;28;01mtry\u001b[39;00m:\n\u001b[1;32m--> 939\u001b[0m     columns \u001b[38;5;241m=\u001b[39m \u001b[43m_validate_or_indexify_columns\u001b[49m\u001b[43m(\u001b[49m\u001b[43mcontents\u001b[49m\u001b[43m,\u001b[49m\u001b[43m \u001b[49m\u001b[43mcolumns\u001b[49m\u001b[43m)\u001b[49m\n\u001b[0;32m    940\u001b[0m \u001b[38;5;28;01mexcept\u001b[39;00m \u001b[38;5;167;01mAssertionError\u001b[39;00m \u001b[38;5;28;01mas\u001b[39;00m err:\n\u001b[0;32m    941\u001b[0m     \u001b[38;5;66;03m# GH#26429 do not raise user-facing AssertionError\u001b[39;00m\n",
      "File \u001b[1;32mc:\\Users\\USER\\AppData\\Local\\Programs\\Python\\Python312\\Lib\\site-packages\\pandas\\core\\internals\\construction.py:986\u001b[0m, in \u001b[0;36m_validate_or_indexify_columns\u001b[1;34m(content, columns)\u001b[0m\n\u001b[0;32m    984\u001b[0m \u001b[38;5;28;01mif\u001b[39;00m \u001b[38;5;129;01mnot\u001b[39;00m is_mi_list \u001b[38;5;129;01mand\u001b[39;00m \u001b[38;5;28mlen\u001b[39m(columns) \u001b[38;5;241m!=\u001b[39m \u001b[38;5;28mlen\u001b[39m(content):  \u001b[38;5;66;03m# pragma: no cover\u001b[39;00m\n\u001b[0;32m    985\u001b[0m     \u001b[38;5;66;03m# caller's responsibility to check for this...\u001b[39;00m\n\u001b[1;32m--> 986\u001b[0m     \u001b[38;5;28;01mraise\u001b[39;00m \u001b[38;5;167;01mAssertionError\u001b[39;00m(\n\u001b[0;32m    987\u001b[0m         \u001b[38;5;124mf\u001b[39m\u001b[38;5;124m\"\u001b[39m\u001b[38;5;132;01m{\u001b[39;00m\u001b[38;5;28mlen\u001b[39m(columns)\u001b[38;5;132;01m}\u001b[39;00m\u001b[38;5;124m columns passed, passed data had \u001b[39m\u001b[38;5;124m\"\u001b[39m\n\u001b[0;32m    988\u001b[0m         \u001b[38;5;124mf\u001b[39m\u001b[38;5;124m\"\u001b[39m\u001b[38;5;132;01m{\u001b[39;00m\u001b[38;5;28mlen\u001b[39m(content)\u001b[38;5;132;01m}\u001b[39;00m\u001b[38;5;124m columns\u001b[39m\u001b[38;5;124m\"\u001b[39m\n\u001b[0;32m    989\u001b[0m     )\n\u001b[0;32m    990\u001b[0m \u001b[38;5;28;01mif\u001b[39;00m is_mi_list:\n\u001b[0;32m    991\u001b[0m     \u001b[38;5;66;03m# check if nested list column, length of each sub-list should be equal\u001b[39;00m\n",
      "\u001b[1;31mAssertionError\u001b[0m: 7 columns passed, passed data had 10 columns",
      "\nThe above exception was the direct cause of the following exception:\n",
      "\u001b[1;31mValueError\u001b[0m                                Traceback (most recent call last)",
      "Cell \u001b[1;32mIn[66], line 1\u001b[0m\n\u001b[1;32m----> 1\u001b[0m df \u001b[38;5;241m=\u001b[39m \u001b[43mpd\u001b[49m\u001b[38;5;241;43m.\u001b[39;49m\u001b[43mDataFrame\u001b[49m\u001b[43m(\u001b[49m\u001b[43mrecords\u001b[49m\u001b[43m,\u001b[49m\u001b[43m \u001b[49m\u001b[43mcolumns\u001b[49m\u001b[38;5;241;43m=\u001b[39;49m\u001b[43m[\u001b[49m\u001b[38;5;124;43m\"\u001b[39;49m\u001b[38;5;124;43mid\u001b[39;49m\u001b[38;5;124;43m\"\u001b[39;49m\u001b[43m,\u001b[49m\u001b[43m \u001b[49m\u001b[38;5;124;43m\"\u001b[39;49m\u001b[38;5;124;43mmeal_type\u001b[39;49m\u001b[38;5;124;43m\"\u001b[39;49m\u001b[43m,\u001b[49m\u001b[43m \u001b[49m\u001b[38;5;124;43m\"\u001b[39;49m\u001b[38;5;124;43mweekday\u001b[39;49m\u001b[38;5;124;43m\"\u001b[39;49m\u001b[43m,\u001b[49m\u001b[43m \u001b[49m\u001b[38;5;124;43m\"\u001b[39;49m\u001b[38;5;124;43mwait_staff\u001b[39;49m\u001b[38;5;124;43m\"\u001b[39;49m\u001b[43m,\u001b[49m\u001b[43m \u001b[49m\u001b[38;5;124;43m\"\u001b[39;49m\u001b[38;5;124;43mparty_size\u001b[39;49m\u001b[38;5;124;43m\"\u001b[39;49m\u001b[43m,\u001b[49m\u001b[43m \u001b[49m\u001b[38;5;124;43m\"\u001b[39;49m\u001b[38;5;124;43mtip\u001b[39;49m\u001b[38;5;124;43m\"\u001b[39;49m\u001b[43m,\u001b[49m\u001b[38;5;124;43m\"\u001b[39;49m\u001b[38;5;124;43mmeal_total\u001b[39;49m\u001b[38;5;124;43m\"\u001b[39;49m\u001b[43m \u001b[49m\u001b[43m]\u001b[49m\u001b[43m)\u001b[49m\n\u001b[0;32m      3\u001b[0m \u001b[38;5;66;03m# Print the DataFrame\u001b[39;00m\n\u001b[0;32m      4\u001b[0m df\n",
      "File \u001b[1;32mc:\\Users\\USER\\AppData\\Local\\Programs\\Python\\Python312\\Lib\\site-packages\\pandas\\core\\frame.py:840\u001b[0m, in \u001b[0;36mDataFrame.__init__\u001b[1;34m(self, data, index, columns, dtype, copy)\u001b[0m\n\u001b[0;32m    838\u001b[0m     \u001b[38;5;28;01mif\u001b[39;00m columns \u001b[38;5;129;01mis\u001b[39;00m \u001b[38;5;129;01mnot\u001b[39;00m \u001b[38;5;28;01mNone\u001b[39;00m:\n\u001b[0;32m    839\u001b[0m         columns \u001b[38;5;241m=\u001b[39m ensure_index(columns)\n\u001b[1;32m--> 840\u001b[0m     arrays, columns, index \u001b[38;5;241m=\u001b[39m \u001b[43mnested_data_to_arrays\u001b[49m\u001b[43m(\u001b[49m\n\u001b[0;32m    841\u001b[0m \u001b[43m        \u001b[49m\u001b[38;5;66;43;03m# error: Argument 3 to \"nested_data_to_arrays\" has incompatible\u001b[39;49;00m\n\u001b[0;32m    842\u001b[0m \u001b[43m        \u001b[49m\u001b[38;5;66;43;03m# type \"Optional[Collection[Any]]\"; expected \"Optional[Index]\"\u001b[39;49;00m\n\u001b[0;32m    843\u001b[0m \u001b[43m        \u001b[49m\u001b[43mdata\u001b[49m\u001b[43m,\u001b[49m\n\u001b[0;32m    844\u001b[0m \u001b[43m        \u001b[49m\u001b[43mcolumns\u001b[49m\u001b[43m,\u001b[49m\n\u001b[0;32m    845\u001b[0m \u001b[43m        \u001b[49m\u001b[43mindex\u001b[49m\u001b[43m,\u001b[49m\u001b[43m  \u001b[49m\u001b[38;5;66;43;03m# type: ignore[arg-type]\u001b[39;49;00m\n\u001b[0;32m    846\u001b[0m \u001b[43m        \u001b[49m\u001b[43mdtype\u001b[49m\u001b[43m,\u001b[49m\n\u001b[0;32m    847\u001b[0m \u001b[43m    \u001b[49m\u001b[43m)\u001b[49m\n\u001b[0;32m    848\u001b[0m     mgr \u001b[38;5;241m=\u001b[39m arrays_to_mgr(\n\u001b[0;32m    849\u001b[0m         arrays,\n\u001b[0;32m    850\u001b[0m         columns,\n\u001b[1;32m   (...)\u001b[0m\n\u001b[0;32m    853\u001b[0m         typ\u001b[38;5;241m=\u001b[39mmanager,\n\u001b[0;32m    854\u001b[0m     )\n\u001b[0;32m    855\u001b[0m \u001b[38;5;28;01melse\u001b[39;00m:\n",
      "File \u001b[1;32mc:\\Users\\USER\\AppData\\Local\\Programs\\Python\\Python312\\Lib\\site-packages\\pandas\\core\\internals\\construction.py:520\u001b[0m, in \u001b[0;36mnested_data_to_arrays\u001b[1;34m(data, columns, index, dtype)\u001b[0m\n\u001b[0;32m    517\u001b[0m \u001b[38;5;28;01mif\u001b[39;00m is_named_tuple(data[\u001b[38;5;241m0\u001b[39m]) \u001b[38;5;129;01mand\u001b[39;00m columns \u001b[38;5;129;01mis\u001b[39;00m \u001b[38;5;28;01mNone\u001b[39;00m:\n\u001b[0;32m    518\u001b[0m     columns \u001b[38;5;241m=\u001b[39m ensure_index(data[\u001b[38;5;241m0\u001b[39m]\u001b[38;5;241m.\u001b[39m_fields)\n\u001b[1;32m--> 520\u001b[0m arrays, columns \u001b[38;5;241m=\u001b[39m \u001b[43mto_arrays\u001b[49m\u001b[43m(\u001b[49m\u001b[43mdata\u001b[49m\u001b[43m,\u001b[49m\u001b[43m \u001b[49m\u001b[43mcolumns\u001b[49m\u001b[43m,\u001b[49m\u001b[43m \u001b[49m\u001b[43mdtype\u001b[49m\u001b[38;5;241;43m=\u001b[39;49m\u001b[43mdtype\u001b[49m\u001b[43m)\u001b[49m\n\u001b[0;32m    521\u001b[0m columns \u001b[38;5;241m=\u001b[39m ensure_index(columns)\n\u001b[0;32m    523\u001b[0m \u001b[38;5;28;01mif\u001b[39;00m index \u001b[38;5;129;01mis\u001b[39;00m \u001b[38;5;28;01mNone\u001b[39;00m:\n",
      "File \u001b[1;32mc:\\Users\\USER\\AppData\\Local\\Programs\\Python\\Python312\\Lib\\site-packages\\pandas\\core\\internals\\construction.py:845\u001b[0m, in \u001b[0;36mto_arrays\u001b[1;34m(data, columns, dtype)\u001b[0m\n\u001b[0;32m    842\u001b[0m     data \u001b[38;5;241m=\u001b[39m [\u001b[38;5;28mtuple\u001b[39m(x) \u001b[38;5;28;01mfor\u001b[39;00m x \u001b[38;5;129;01min\u001b[39;00m data]\n\u001b[0;32m    843\u001b[0m     arr \u001b[38;5;241m=\u001b[39m _list_to_arrays(data)\n\u001b[1;32m--> 845\u001b[0m content, columns \u001b[38;5;241m=\u001b[39m \u001b[43m_finalize_columns_and_data\u001b[49m\u001b[43m(\u001b[49m\u001b[43marr\u001b[49m\u001b[43m,\u001b[49m\u001b[43m \u001b[49m\u001b[43mcolumns\u001b[49m\u001b[43m,\u001b[49m\u001b[43m \u001b[49m\u001b[43mdtype\u001b[49m\u001b[43m)\u001b[49m\n\u001b[0;32m    846\u001b[0m \u001b[38;5;28;01mreturn\u001b[39;00m content, columns\n",
      "File \u001b[1;32mc:\\Users\\USER\\AppData\\Local\\Programs\\Python\\Python312\\Lib\\site-packages\\pandas\\core\\internals\\construction.py:942\u001b[0m, in \u001b[0;36m_finalize_columns_and_data\u001b[1;34m(content, columns, dtype)\u001b[0m\n\u001b[0;32m    939\u001b[0m     columns \u001b[38;5;241m=\u001b[39m _validate_or_indexify_columns(contents, columns)\n\u001b[0;32m    940\u001b[0m \u001b[38;5;28;01mexcept\u001b[39;00m \u001b[38;5;167;01mAssertionError\u001b[39;00m \u001b[38;5;28;01mas\u001b[39;00m err:\n\u001b[0;32m    941\u001b[0m     \u001b[38;5;66;03m# GH#26429 do not raise user-facing AssertionError\u001b[39;00m\n\u001b[1;32m--> 942\u001b[0m     \u001b[38;5;28;01mraise\u001b[39;00m \u001b[38;5;167;01mValueError\u001b[39;00m(err) \u001b[38;5;28;01mfrom\u001b[39;00m \u001b[38;5;21;01merr\u001b[39;00m\n\u001b[0;32m    944\u001b[0m \u001b[38;5;28;01mif\u001b[39;00m \u001b[38;5;28mlen\u001b[39m(contents) \u001b[38;5;129;01mand\u001b[39;00m contents[\u001b[38;5;241m0\u001b[39m]\u001b[38;5;241m.\u001b[39mdtype \u001b[38;5;241m==\u001b[39m np\u001b[38;5;241m.\u001b[39mobject_:\n\u001b[0;32m    945\u001b[0m     contents \u001b[38;5;241m=\u001b[39m convert_object_array(contents, dtype\u001b[38;5;241m=\u001b[39mdtype)\n",
      "\u001b[1;31mValueError\u001b[0m: 7 columns passed, passed data had 10 columns"
     ]
    }
   ],
   "source": [
    "df = pd.DataFrame(records, columns=[\"id\", \"meal_type\", \"weekday\", \"wait_staff\", \"party_size\", \"tip\",\"meal_total\" ])\n",
    "\n",
    "# Print the DataFrame\n",
    "df"
   ]
  },
  {
   "cell_type": "markdown",
   "metadata": {},
   "source": [
    "#### Make a `SELECT` Request to Get New Records"
   ]
  },
  {
   "cell_type": "code",
   "execution_count": 20,
   "metadata": {
    "ExecuteTime": {
     "end_time": "2024-04-06T14:49:43.384565Z",
     "start_time": "2024-04-06T14:49:38.808138Z"
    }
   },
   "outputs": [
    {
     "name": "stdout",
     "output_type": "stream",
     "text": [
      "PostgreSQL connection is closed\n",
      "[(1, 'Saturday', 'Dinner', 'Marcia', 2, 100.64, 16.23), (2, 'Friday', 'Dinner', 'Marcia', 2, 109.84, 5.99), (4, 'Monday', 'Dinner', 'Marcia', 1, 60.01, 8.77), (16, 'Tuesday', 'Breakfast', 'Marcia', 1, 9.71, 1.99), (23, 'Saturday', 'Dinner', 'Marcia', 2, 116.47, 30.94), (26, 'Friday', 'Dinner', 'Marcia', 1, 55.46, 5.29), (33, 'Friday', 'Dinner', 'Marcia', 2, 109.87, 19.47), (43, 'Saturday', 'Dinner', 'Marcia', 4, 249.26, 62.38), (47, 'Friday', 'Dinner', 'Marcia', 3, 187.02, 14.02), (49, 'Friday', 'Dinner', 'Marcia', 2, 113.42, 23.12), (52, 'Friday', 'Dinner', 'Marcia', 2, 118.39, 23.78), (57, 'Saturday', 'Dinner', 'Marcia', 2, 124.83, 19.75), (62, 'Sunday', 'Dinner', 'Marcia', 2, 100.85, 16.84), (68, 'Monday', 'Dinner', 'Marcia', 4, 251.27, 59.05), (69, 'Friday', 'Dinner', 'Marcia', 1, 53.81, 3.45), (73, 'Wednesday', 'Dinner', 'Marcia', 4, 241.81, 47.11), (76, 'Wednesday', 'Breakfast', 'Marcia', 2, 21.55, 2.04), (78, 'Saturday', 'Breakfast', 'Marcia', 4, 46.66, 8.32), (82, 'Friday', 'Dinner', 'Marcia', 4, 241.42, 34.15), (89, 'Friday', 'Dinner', 'Marcia', 2, 117.24, 31.21), (91, 'Friday', 'Breakfast', 'Marcia', 2, 17.59, 1.65), (92, 'Friday', 'Dinner', 'Marcia', 1, 54.58, 9.08), (94, 'Tuesday', 'Dinner', 'Marcia', 4, 230.31, 49.81), (96, 'Sunday', 'Dinner', 'Marcia', 2, 125.4, 20.67), (112, 'Wednesday', 'Breakfast', 'Marcia', 2, 28.8, 7.17), (121, 'Friday', 'Breakfast', 'Marcia', 2, 23.79, 2.3), (134, 'Friday', 'Lunch', 'Marcia', 1, 20.65, 4.2), (136, 'Saturday', 'Breakfast', 'Marcia', 2, 18.91, 4.54), (139, 'Saturday', 'Dinner', 'Marcia', 2, 128.15, 12.56), (145, 'Tuesday', 'Breakfast', 'Marcia', 1, 12.43, 2.89), (148, 'Saturday', 'Dinner', 'Marcia', 2, 121.15, 17.69), (151, 'Saturday', 'Dinner', 'Marcia', 1, 63.2, 3.19), (158, 'Sunday', 'Dinner', 'Marcia', 1, 64.21, 7.03), (171, 'Saturday', 'Breakfast', 'Marcia', 1, 10.3, 1.81), (173, 'Tuesday', 'Dinner', 'Marcia', 1, 59.59, 16.51), (178, 'Friday', 'Dinner', 'Marcia', 2, 98.83, 17.17), (181, 'Tuesday', 'Dinner', 'Marcia', 4, 242.97, 32.86), (184, 'Saturday', 'Dinner', 'Marcia', 2, 106.21, 15.53), (190, 'Monday', 'Breakfast', 'Marcia', 3, 46.56, 10.0), (192, 'Friday', 'Dinner', 'Marcia', 3, 183.97, 23.58), (193, 'Sunday', 'Breakfast', 'Marcia', 4, 49.96, 7.89), (197, 'Saturday', 'Dinner', 'Marcia', 4, 219.96, 20.07), (199, 'Saturday', 'Breakfast', 'Marcia', 2, 30.98, 5.47), (203, 'Saturday', 'Lunch', 'Marcia', 4, 84.68, 10.37), (204, 'Friday', 'Dinner', 'Marcia', 2, 115.27, 16.63), (205, 'Monday', 'Dinner', 'Marcia', 4, 255.77, 42.66), (207, 'Friday', 'Breakfast', 'Marcia', 1, 9.82, 0.81), (210, 'Saturday', 'Breakfast', 'Marcia', 3, 24.51, 1.78), (217, 'Sunday', 'Dinner', 'Marcia', 4, 228.08, 30.64), (218, 'Friday', 'Lunch', 'Marcia', 2, 48.03, 1.52), (220, 'Tuesday', 'Dinner', 'Marcia', 4, 229.23, 26.31), (228, 'Thursday', 'Dinner', 'Marcia', 4, 208.79, 10.09), (237, 'Sunday', 'Lunch', 'Marcia', 4, 97.76, 13.53), (240, 'Saturday', 'Dinner', 'Marcia', 1, 64.02, 9.57), (242, 'Monday', 'Dinner', 'Marcia', 4, 235.4, 19.05), (247, 'Wednesday', 'Dinner', 'Marcia', 4, 233.88, 60.75), (248, 'Friday', 'Dinner', 'Marcia', 1, 44.97, 8.86), (258, 'Saturday', 'Lunch', 'Marcia', 2, 52.48, 10.1), (260, 'Saturday', 'Breakfast', 'Marcia', 1, 7.63, 1.79), (263, 'Saturday', 'Breakfast', 'Marcia', 4, 46.15, 13.05), (265, 'Friday', 'Dinner', 'Marcia', 2, 108.85, 19.98), (276, 'Wednesday', 'Breakfast', 'Marcia', 1, 11.01, 2.28), (277, 'Sunday', 'Breakfast', 'Marcia', 1, 11.61, 2.41), (278, 'Sunday', 'Breakfast', 'Marcia', 1, 14.52, 1.81), (283, 'Tuesday', 'Dinner', 'Marcia', 4, 221.5, 46.32), (291, 'Thursday', 'Dinner', 'Marcia', 2, 110.54, 15.21), (292, 'Friday', 'Lunch', 'Marcia', 2, 44.24, 8.44), (293, 'Friday', 'Dinner', 'Marcia', 3, 168.69, 7.92), (295, 'Saturday', 'Dinner', 'Marcia', 1, 54.25, 2.29), (301, 'Thursday', 'Breakfast', 'Marcia', 1, 14.4, 3.06), (308, 'Saturday', 'Breakfast', 'Marcia', 1, 13.25, 1.9), (315, 'Saturday', 'Dinner', 'Marcia', 4, 222.17, 41.94), (317, 'Saturday', 'Breakfast', 'Marcia', 1, 13.15, 2.01), (322, 'Monday', 'Dinner', 'Marcia', 4, 242.85, 58.2), (330, 'Saturday', 'Dinner', 'Marcia', 2, 114.63, 22.75), (332, 'Wednesday', 'Dinner', 'Marcia', 1, 54.26, 13.06), (333, 'Thursday', 'Dinner', 'Marcia', 2, 114.18, 14.04), (335, 'Tuesday', 'Dinner', 'Marcia', 1, 56.92, 7.09), (336, 'Friday', 'Dinner', 'Marcia', 4, 221.73, 22.34), (338, 'Saturday', 'Dinner', 'Marcia', 1, 54.34, 4.33), (351, 'Tuesday', 'Breakfast', 'Marcia', 1, 9.39, 1.37), (352, 'Sunday', 'Dinner', 'Marcia', 1, 52.73, 11.89), (360, 'Saturday', 'Dinner', 'Marcia', 4, 231.08, 11.53), (363, 'Friday', 'Dinner', 'Marcia', 2, 139.15, 28.69), (367, 'Saturday', 'Dinner', 'Marcia', 4, 228.66, 10.13), (372, 'Sunday', 'Breakfast', 'Marcia', 3, 42.67, 8.4), (374, 'Thursday', 'Breakfast', 'Marcia', 4, 44.24, 5.05), (375, 'Friday', 'Dinner', 'Marcia', 1, 43.76, 9.46), (387, 'Sunday', 'Dinner', 'Marcia', 2, 123.31, 14.99), (388, 'Friday', 'Dinner', 'Marcia', 2, 135.94, 21.76), (390, 'Saturday', 'Dinner', 'Marcia', 3, 172.11, 15.98), (397, 'Saturday', 'Dinner', 'Marcia', 2, 118.22, 2.55), (399, 'Sunday', 'Lunch', 'Marcia', 4, 98.66, 14.83), (403, 'Saturday', 'Dinner', 'Marcia', 4, 198.58, 8.36), (405, 'Saturday', 'Dinner', 'Marcia', 1, 62.88, 12.86), (412, 'Friday', 'Breakfast', 'Marcia', 1, 12.9, 1.25), (418, 'Saturday', 'Dinner', 'Marcia', 3, 189.56, 42.45), (425, 'Friday', 'Breakfast', 'Marcia', 4, 47.8, 10.24), (428, 'Saturday', 'Dinner', 'Marcia', 2, 101.06, 28.31), (433, 'Sunday', 'Lunch', 'Marcia', 4, 80.67, 6.47), (439, 'Saturday', 'Dinner', 'Marcia', 2, 105.36, 8.39), (443, 'Friday', 'Breakfast', 'Marcia', 4, 40.37, 1.58), (452, 'Saturday', 'Dinner', 'Marcia', 2, 140.9, 9.37), (466, 'Friday', 'Dinner', 'Marcia', 1, 61.08, 4.44), (475, 'Friday', 'Dinner', 'Marcia', 4, 219.64, 28.1), (477, 'Friday', 'Breakfast', 'Marcia', 2, 25.14, 5.17), (479, 'Saturday', 'Breakfast', 'Marcia', 2, 26.63, 6.74), (482, 'Saturday', 'Breakfast', 'Marcia', 4, 43.63, 8.89), (490, 'Friday', 'Dinner', 'Marcia', 2, 130.46, 8.65), (491, 'Friday', 'Breakfast', 'Marcia', 2, 24.59, 3.26), (494, 'Friday', 'Dinner', 'Marcia', 2, 101.96, 11.59), (497, 'Saturday', 'Dinner', 'Marcia', 1, 48.71, 12.86)]\n"
     ]
    }
   ],
   "source": [
    "select_query = '''SELECT * FROM tips WHERE wait_staff='Marcia';'''\n",
    "\n",
    "records = db_server_fetch(select_query)\n",
    "print(records)"
   ]
  },
  {
   "cell_type": "markdown",
   "metadata": {},
   "source": [
    "### Accessing a SQL Database With Pandas\n",
    "\n",
    "pandas.read_sql( ) - loads data from database\n",
    "pandas.to_sql( ) - write data to database\n",
    "\n",
    "**CAUTION:** Please don't write to a database unless you know what you are doing and are authorized.  If you are not, your permission should allow read only."
   ]
  },
  {
   "cell_type": "code",
   "execution_count": 21,
   "metadata": {
    "ExecuteTime": {
     "end_time": "2024-04-06T14:50:16.889776Z",
     "start_time": "2024-04-06T14:50:16.881775Z"
    }
   },
   "outputs": [],
   "source": [
    "def pandas_db_server_fetch(sql_query):\n",
    "    try:\n",
    "        # Make connection to db\n",
    "        cxn = psycopg2.connect(host=hostStr, port=dbPort, dbname=dbStr, user=uNameStr, password=dbPassStr)\n",
    "\n",
    "        # Send sql query to request and create dataframe\n",
    "        df = pd.read_sql(sql_query, cxn)\n",
    "\n",
    "    except (Exception, psycopg2.Error) as error :\n",
    "        print (\"Error while connecting to PostgreSQL\", error)\n",
    "\n",
    "    finally:\n",
    "        #closing database connection.\n",
    "        if(cxn):\n",
    "            cxn.close()\n",
    "            print(\"PostgreSQL connection is closed\")\n",
    "        return df"
   ]
  },
  {
   "cell_type": "code",
   "execution_count": 22,
   "metadata": {
    "ExecuteTime": {
     "end_time": "2024-04-06T14:50:23.857189Z",
     "start_time": "2024-04-06T14:50:19.196212Z"
    }
   },
   "outputs": [
    {
     "name": "stdout",
     "output_type": "stream",
     "text": [
      "PostgreSQL connection is closed\n"
     ]
    },
    {
     "name": "stderr",
     "output_type": "stream",
     "text": [
      "C:\\Users\\USER\\AppData\\Local\\Temp\\ipykernel_38568\\2124809307.py:7: UserWarning: pandas only supports SQLAlchemy connectable (engine/connection) or database string URI or sqlite3 DBAPI2 connection. Other DBAPI2 objects are not tested. Please consider using SQLAlchemy.\n",
      "  df = pd.read_sql(sql_query, cxn)\n"
     ]
    },
    {
     "data": {
      "text/html": [
       "<div>\n",
       "<style scoped>\n",
       "    .dataframe tbody tr th:only-of-type {\n",
       "        vertical-align: middle;\n",
       "    }\n",
       "\n",
       "    .dataframe tbody tr th {\n",
       "        vertical-align: top;\n",
       "    }\n",
       "\n",
       "    .dataframe thead th {\n",
       "        text-align: right;\n",
       "    }\n",
       "</style>\n",
       "<table border=\"1\" class=\"dataframe\">\n",
       "  <thead>\n",
       "    <tr style=\"text-align: right;\">\n",
       "      <th></th>\n",
       "      <th>id</th>\n",
       "      <th>weekday</th>\n",
       "      <th>meal_type</th>\n",
       "      <th>wait_staff</th>\n",
       "      <th>party_size</th>\n",
       "      <th>meal_total</th>\n",
       "      <th>tip</th>\n",
       "    </tr>\n",
       "  </thead>\n",
       "  <tbody>\n",
       "    <tr>\n",
       "      <th>0</th>\n",
       "      <td>1</td>\n",
       "      <td>Saturday</td>\n",
       "      <td>Dinner</td>\n",
       "      <td>Marcia</td>\n",
       "      <td>2</td>\n",
       "      <td>100.64</td>\n",
       "      <td>16.23</td>\n",
       "    </tr>\n",
       "    <tr>\n",
       "      <th>1</th>\n",
       "      <td>2</td>\n",
       "      <td>Friday</td>\n",
       "      <td>Dinner</td>\n",
       "      <td>Marcia</td>\n",
       "      <td>2</td>\n",
       "      <td>109.84</td>\n",
       "      <td>5.99</td>\n",
       "    </tr>\n",
       "    <tr>\n",
       "      <th>2</th>\n",
       "      <td>4</td>\n",
       "      <td>Monday</td>\n",
       "      <td>Dinner</td>\n",
       "      <td>Marcia</td>\n",
       "      <td>1</td>\n",
       "      <td>60.01</td>\n",
       "      <td>8.77</td>\n",
       "    </tr>\n",
       "    <tr>\n",
       "      <th>3</th>\n",
       "      <td>16</td>\n",
       "      <td>Tuesday</td>\n",
       "      <td>Breakfast</td>\n",
       "      <td>Marcia</td>\n",
       "      <td>1</td>\n",
       "      <td>9.71</td>\n",
       "      <td>1.99</td>\n",
       "    </tr>\n",
       "    <tr>\n",
       "      <th>4</th>\n",
       "      <td>23</td>\n",
       "      <td>Saturday</td>\n",
       "      <td>Dinner</td>\n",
       "      <td>Marcia</td>\n",
       "      <td>2</td>\n",
       "      <td>116.47</td>\n",
       "      <td>30.94</td>\n",
       "    </tr>\n",
       "  </tbody>\n",
       "</table>\n",
       "</div>"
      ],
      "text/plain": [
       "   id   weekday  meal_type wait_staff  party_size  meal_total    tip\n",
       "0   1  Saturday     Dinner     Marcia           2      100.64  16.23\n",
       "1   2    Friday     Dinner     Marcia           2      109.84   5.99\n",
       "2   4    Monday     Dinner     Marcia           1       60.01   8.77\n",
       "3  16   Tuesday  Breakfast     Marcia           1        9.71   1.99\n",
       "4  23  Saturday     Dinner     Marcia           2      116.47  30.94"
      ]
     },
     "execution_count": 22,
     "metadata": {},
     "output_type": "execute_result"
    }
   ],
   "source": [
    "select_query = '''SELECT * FROM tips WHERE wait_staff='Marcia';'''\n",
    "\n",
    "alfred_df = pandas_db_server_fetch(select_query)\n",
    "alfred_df.head()"
   ]
  },
  {
   "cell_type": "code",
   "execution_count": 23,
   "metadata": {
    "ExecuteTime": {
     "end_time": "2024-04-06T14:50:31.392121Z",
     "start_time": "2024-04-06T14:50:26.798180Z"
    }
   },
   "outputs": [
    {
     "name": "stdout",
     "output_type": "stream",
     "text": [
      "PostgreSQL connection is closed\n"
     ]
    },
    {
     "name": "stderr",
     "output_type": "stream",
     "text": [
      "C:\\Users\\USER\\AppData\\Local\\Temp\\ipykernel_38568\\2124809307.py:7: UserWarning: pandas only supports SQLAlchemy connectable (engine/connection) or database string URI or sqlite3 DBAPI2 connection. Other DBAPI2 objects are not tested. Please consider using SQLAlchemy.\n",
      "  df = pd.read_sql(sql_query, cxn)\n"
     ]
    }
   ],
   "source": [
    "tips_df = pandas_db_server_fetch('''SELECT * FROM tips;''')"
   ]
  },
  {
   "cell_type": "code",
   "execution_count": 38,
   "metadata": {},
   "outputs": [
    {
     "data": {
      "text/html": [
       "<div>\n",
       "<style scoped>\n",
       "    .dataframe tbody tr th:only-of-type {\n",
       "        vertical-align: middle;\n",
       "    }\n",
       "\n",
       "    .dataframe tbody tr th {\n",
       "        vertical-align: top;\n",
       "    }\n",
       "\n",
       "    .dataframe thead th {\n",
       "        text-align: right;\n",
       "    }\n",
       "</style>\n",
       "<table border=\"1\" class=\"dataframe\">\n",
       "  <thead>\n",
       "    <tr style=\"text-align: right;\">\n",
       "      <th></th>\n",
       "      <th>id</th>\n",
       "      <th>weekday</th>\n",
       "      <th>meal_type</th>\n",
       "      <th>wait_staff</th>\n",
       "      <th>party_size</th>\n",
       "      <th>meal_total</th>\n",
       "      <th>tip</th>\n",
       "    </tr>\n",
       "  </thead>\n",
       "  <tbody>\n",
       "    <tr>\n",
       "      <th>496</th>\n",
       "      <td>497</td>\n",
       "      <td>Saturday</td>\n",
       "      <td>Dinner</td>\n",
       "      <td>Marcia</td>\n",
       "      <td>1</td>\n",
       "      <td>48.71</td>\n",
       "      <td>12.86</td>\n",
       "    </tr>\n",
       "    <tr>\n",
       "      <th>497</th>\n",
       "      <td>498</td>\n",
       "      <td>Friday</td>\n",
       "      <td>Dinner</td>\n",
       "      <td>Greg</td>\n",
       "      <td>2</td>\n",
       "      <td>126.26</td>\n",
       "      <td>32.69</td>\n",
       "    </tr>\n",
       "    <tr>\n",
       "      <th>498</th>\n",
       "      <td>499</td>\n",
       "      <td>Friday</td>\n",
       "      <td>Dinner</td>\n",
       "      <td>Greg</td>\n",
       "      <td>1</td>\n",
       "      <td>58.99</td>\n",
       "      <td>4.16</td>\n",
       "    </tr>\n",
       "    <tr>\n",
       "      <th>499</th>\n",
       "      <td>500</td>\n",
       "      <td>Saturday</td>\n",
       "      <td>Dinner</td>\n",
       "      <td>Peter</td>\n",
       "      <td>2</td>\n",
       "      <td>116.82</td>\n",
       "      <td>21.13</td>\n",
       "    </tr>\n",
       "    <tr>\n",
       "      <th>500</th>\n",
       "      <td>504</td>\n",
       "      <td>Saturday</td>\n",
       "      <td>Breakfast</td>\n",
       "      <td>Alfred</td>\n",
       "      <td>1</td>\n",
       "      <td>10.76</td>\n",
       "      <td>0.50</td>\n",
       "    </tr>\n",
       "  </tbody>\n",
       "</table>\n",
       "</div>"
      ],
      "text/plain": [
       "      id   weekday  meal_type wait_staff  party_size  meal_total    tip\n",
       "496  497  Saturday     Dinner     Marcia           1       48.71  12.86\n",
       "497  498    Friday     Dinner       Greg           2      126.26  32.69\n",
       "498  499    Friday     Dinner       Greg           1       58.99   4.16\n",
       "499  500  Saturday     Dinner      Peter           2      116.82  21.13\n",
       "500  504  Saturday  Breakfast     Alfred           1       10.76   0.50"
      ]
     },
     "execution_count": 38,
     "metadata": {},
     "output_type": "execute_result"
    }
   ],
   "source": [
    "tips_df.tail()"
   ]
  },
  {
   "cell_type": "code",
   "execution_count": 37,
   "metadata": {},
   "outputs": [
    {
     "name": "stdout",
     "output_type": "stream",
     "text": [
      "id            0\n",
      "weekday       0\n",
      "meal_type     0\n",
      "wait_staff    0\n",
      "party_size    0\n",
      "meal_total    0\n",
      "tip           0\n",
      "dtype: int64\n"
     ]
    }
   ],
   "source": [
    "print(tips_df.isnull().sum())"
   ]
  },
  {
   "cell_type": "code",
   "execution_count": 36,
   "metadata": {},
   "outputs": [
    {
     "name": "stdout",
     "output_type": "stream",
     "text": [
      "               id  party_size  meal_total         tip\n",
      "count  501.000000  501.000000  501.000000  501.000000\n",
      "mean   251.005988    2.600798  113.749222   17.259002\n",
      "std    144.780931    1.169752   78.705597   14.295672\n",
      "min      1.000000    1.000000    4.750000    0.360000\n",
      "25%    126.000000    2.000000   46.960000    6.210000\n",
      "50%    251.000000    2.000000  103.460000   13.060000\n",
      "75%    376.000000    4.000000  181.320000   24.290000\n",
      "max    504.000000    4.000000  271.370000   63.310000\n"
     ]
    }
   ],
   "source": [
    "print(tips_df.describe())"
   ]
  },
  {
   "cell_type": "code",
   "execution_count": null,
   "metadata": {},
   "outputs": [],
   "source": [
    "df['weekday'] = pd.Categorical(df['weekday'], categories=['Monday', 'Tuesday', 'Wednesday', 'Thursday', 'Friday', 'Saturday', 'Sunday'], ordered=True)\n",
    "df['meal_type'] = pd.Categorical(df['meal_type'])\n",
    "df['wait_staff'] = pd.Categorical(df['wait_staff'])\n"
   ]
  },
  {
   "cell_type": "code",
   "execution_count": null,
   "metadata": {},
   "outputs": [],
   "source": [
    "df['weekday'] = pd.to_datetime(df['weekday'])\n",
    "df['day_of_week'] = df['weekday'].dt.dayofweek  # Monday=0, Sunday=6\n",
    "df['is_weekend'] = df['weekday'].dt.weekday // 5  # 1 if weekend, 0 if weekday\n"
   ]
  },
  {
   "cell_type": "code",
   "execution_count": 29,
   "metadata": {},
   "outputs": [],
   "source": [
    "# Total bill per person\n",
    "df['total_bill_per_person'] = df['meal_total'] / df['party_size']\n",
    "\n",
    "# Tip percentage of the total bill\n",
    "df['tip_percentage'] = (tips_df['tip'] / tips_df['meal_total']) * 100\n",
    "\n",
    "# Interaction features\n",
    "df['party_size_meal_total_interaction'] = df['party_size'] * df['meal_total']\n"
   ]
  },
  {
   "cell_type": "code",
   "execution_count": 53,
   "metadata": {},
   "outputs": [],
   "source": [
    "df['tip_percentage_2'] = (tips_df['tip'] / tips_df['meal_total']) * 100"
   ]
  },
  {
   "cell_type": "code",
   "execution_count": 54,
   "metadata": {},
   "outputs": [],
   "source": [
    "#tips_df = tips_df.append(df['tip_percentage'], axis=1)\n",
    "\n",
    "tips_df = pd.concat([tips_df, pd.DataFrame(df['tip_percentage_2'])], ignore_index=True)"
   ]
  },
  {
   "cell_type": "code",
   "execution_count": 56,
   "metadata": {},
   "outputs": [
    {
     "data": {
      "text/html": [
       "<div>\n",
       "<style scoped>\n",
       "    .dataframe tbody tr th:only-of-type {\n",
       "        vertical-align: middle;\n",
       "    }\n",
       "\n",
       "    .dataframe tbody tr th {\n",
       "        vertical-align: top;\n",
       "    }\n",
       "\n",
       "    .dataframe thead th {\n",
       "        text-align: right;\n",
       "    }\n",
       "</style>\n",
       "<table border=\"1\" class=\"dataframe\">\n",
       "  <thead>\n",
       "    <tr style=\"text-align: right;\">\n",
       "      <th></th>\n",
       "      <th>id</th>\n",
       "      <th>weekday</th>\n",
       "      <th>meal_type</th>\n",
       "      <th>wait_staff</th>\n",
       "      <th>party_size</th>\n",
       "      <th>meal_total</th>\n",
       "      <th>tip</th>\n",
       "      <th>tip_percentage</th>\n",
       "      <th>tip_percentage_2</th>\n",
       "    </tr>\n",
       "  </thead>\n",
       "  <tbody>\n",
       "    <tr>\n",
       "      <th>511</th>\n",
       "      <td>NaN</td>\n",
       "      <td>NaN</td>\n",
       "      <td>NaN</td>\n",
       "      <td>NaN</td>\n",
       "      <td>NaN</td>\n",
       "      <td>NaN</td>\n",
       "      <td>NaN</td>\n",
       "      <td>NaN</td>\n",
       "      <td>16.126789</td>\n",
       "    </tr>\n",
       "    <tr>\n",
       "      <th>512</th>\n",
       "      <td>NaN</td>\n",
       "      <td>NaN</td>\n",
       "      <td>NaN</td>\n",
       "      <td>NaN</td>\n",
       "      <td>NaN</td>\n",
       "      <td>NaN</td>\n",
       "      <td>NaN</td>\n",
       "      <td>NaN</td>\n",
       "      <td>5.453387</td>\n",
       "    </tr>\n",
       "    <tr>\n",
       "      <th>513</th>\n",
       "      <td>NaN</td>\n",
       "      <td>NaN</td>\n",
       "      <td>NaN</td>\n",
       "      <td>NaN</td>\n",
       "      <td>NaN</td>\n",
       "      <td>NaN</td>\n",
       "      <td>NaN</td>\n",
       "      <td>NaN</td>\n",
       "      <td>24.353591</td>\n",
       "    </tr>\n",
       "    <tr>\n",
       "      <th>514</th>\n",
       "      <td>NaN</td>\n",
       "      <td>NaN</td>\n",
       "      <td>NaN</td>\n",
       "      <td>NaN</td>\n",
       "      <td>NaN</td>\n",
       "      <td>NaN</td>\n",
       "      <td>NaN</td>\n",
       "      <td>NaN</td>\n",
       "      <td>14.614231</td>\n",
       "    </tr>\n",
       "    <tr>\n",
       "      <th>515</th>\n",
       "      <td>NaN</td>\n",
       "      <td>NaN</td>\n",
       "      <td>NaN</td>\n",
       "      <td>NaN</td>\n",
       "      <td>NaN</td>\n",
       "      <td>NaN</td>\n",
       "      <td>NaN</td>\n",
       "      <td>NaN</td>\n",
       "      <td>15.441176</td>\n",
       "    </tr>\n",
       "  </tbody>\n",
       "</table>\n",
       "</div>"
      ],
      "text/plain": [
       "     id weekday meal_type wait_staff  party_size  meal_total  tip  \\\n",
       "511 NaN     NaN       NaN        NaN         NaN         NaN  NaN   \n",
       "512 NaN     NaN       NaN        NaN         NaN         NaN  NaN   \n",
       "513 NaN     NaN       NaN        NaN         NaN         NaN  NaN   \n",
       "514 NaN     NaN       NaN        NaN         NaN         NaN  NaN   \n",
       "515 NaN     NaN       NaN        NaN         NaN         NaN  NaN   \n",
       "\n",
       "     tip_percentage  tip_percentage_2  \n",
       "511             NaN         16.126789  \n",
       "512             NaN          5.453387  \n",
       "513             NaN         24.353591  \n",
       "514             NaN         14.614231  \n",
       "515             NaN         15.441176  "
      ]
     },
     "execution_count": 56,
     "metadata": {},
     "output_type": "execute_result"
    }
   ],
   "source": [
    "tips_df.tail()"
   ]
  },
  {
   "cell_type": "code",
   "execution_count": 48,
   "metadata": {},
   "outputs": [],
   "source": [
    " for col in ['meal_total', 'tip']:\n",
    "     tips_df[col] = pd.to_numeric(tips_df[col], errors='coerce')"
   ]
  },
  {
   "cell_type": "code",
   "execution_count": 47,
   "metadata": {},
   "outputs": [
    {
     "name": "stdout",
     "output_type": "stream",
     "text": [
      "Empty DataFrame\n",
      "Columns: []\n",
      "Index: [0, 1, 2, 3, 4, 5, 6, 7, 8, 9, 10, 11, 12, 13, 14, 15, 16, 17, 18, 19, 20, 21, 22, 23, 24, 25, 26, 27, 28, 29, 30, 31, 32, 33, 34, 35, 36, 37, 38, 39, 40, 41, 42, 43, 44, 45, 46, 47, 48, 49, 50, 51, 52, 53, 54, 55, 56, 57, 58, 59, 60, 61, 62, 63, 64, 65, 66, 67, 68, 69, 70, 71, 72, 73, 74, 75, 76, 77, 78, 79, 80, 81, 82, 83, 84, 85, 86, 87, 88, 89, 90, 91, 92, 93, 94, 95, 96, 97, 98, 99, ...]\n",
      "\n",
      "[506 rows x 0 columns]\n"
     ]
    }
   ],
   "source": [
    "df_int = tips_df.select_dtypes(include=[int])\n",
    "print(df_int)"
   ]
  },
  {
   "cell_type": "code",
   "execution_count": 39,
   "metadata": {},
   "outputs": [
    {
     "data": {
      "text/plain": [
       "0    32.46\n",
       "1    11.98\n",
       "2    88.16\n",
       "3     8.77\n",
       "4     1.68\n",
       "Name: party_size_meal_total_interaction, dtype: float64"
      ]
     },
     "execution_count": 39,
     "metadata": {},
     "output_type": "execute_result"
    }
   ],
   "source": [
    "df['party_size_meal_total_interaction'].head(10)"
   ]
  },
  {
   "cell_type": "code",
   "execution_count": 32,
   "metadata": {},
   "outputs": [
    {
     "data": {
      "text/plain": [
       "0     620.086260\n",
       "1    1833.722871\n",
       "2     410.617060\n",
       "3     684.264538\n",
       "4     647.619048\n",
       "Name: tip_percentage, dtype: float64"
      ]
     },
     "execution_count": 32,
     "metadata": {},
     "output_type": "execute_result"
    }
   ],
   "source": [
    "df['tip_percentage'] "
   ]
  },
  {
   "cell_type": "code",
   "execution_count": 30,
   "metadata": {},
   "outputs": [
    {
     "data": {
      "text/plain": [
       "0    8.115\n",
       "1    2.995\n",
       "2    5.510\n",
       "3    8.770\n",
       "4    1.680\n",
       "Name: total_bill_per_person, dtype: float64"
      ]
     },
     "execution_count": 30,
     "metadata": {},
     "output_type": "execute_result"
    }
   ],
   "source": [
    "df['total_bill_per_person']"
   ]
  }
 ],
 "metadata": {
  "kernelspec": {
   "display_name": "Python 3",
   "language": "python",
   "name": "python3"
  },
  "language_info": {
   "codemirror_mode": {
    "name": "ipython",
    "version": 3
   },
   "file_extension": ".py",
   "mimetype": "text/x-python",
   "name": "python",
   "nbconvert_exporter": "python",
   "pygments_lexer": "ipython3",
   "version": "3.12.2"
  }
 },
 "nbformat": 4,
 "nbformat_minor": 2
}
